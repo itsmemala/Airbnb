{
 "cells": [
  {
   "cell_type": "code",
   "execution_count": 104,
   "metadata": {
    "collapsed": true
   },
   "outputs": [
    {
     "name": "stderr",
     "output_type": "stream",
     "text": [
      "C:\\Users\\malavika.suresh\\AppData\\Local\\Continuum\\anaconda3\\lib\\site-packages\\ipykernel_launcher.py:5: SettingWithCopyWarning: \n",
      "A value is trying to be set on a copy of a slice from a DataFrame.\n",
      "Try using .loc[row_indexer,col_indexer] = value instead\n",
      "\n",
      "See the caveats in the documentation: http://pandas.pydata.org/pandas-docs/stable/indexing.html#indexing-view-versus-copy\n",
      "  \"\"\"\n"
     ]
    }
   ],
   "source": [
    "import pandas as pd\n",
    "data=pd.read_csv('D:\\\\PGP-BABI\\\\Capstone\\\\Airbnb\\\\Tasmania-detailed reviews.csv', error_bad_lines=False)\n",
    "#data=pd.read_csv('D:\\\\PGP-BABI\\\\Capstone\\\\Airbnb\\\\Clustering\\\\final_merged.csv', error_bad_lines=False)\n",
    "data_text = data[['Summary+space']]\n",
    "data_text['index'] = data_text.index\n",
    "data_text\n",
    "documents = data_text"
   ]
  },
  {
   "cell_type": "code",
   "execution_count": 5,
   "metadata": {
    "collapsed": true
   },
   "outputs": [
    {
     "data": {
      "text/html": [
       "<div>\n",
       "<style scoped>\n",
       "    .dataframe tbody tr th:only-of-type {\n",
       "        vertical-align: middle;\n",
       "    }\n",
       "\n",
       "    .dataframe tbody tr th {\n",
       "        vertical-align: top;\n",
       "    }\n",
       "\n",
       "    .dataframe thead th {\n",
       "        text-align: right;\n",
       "    }\n",
       "</style>\n",
       "<table border=\"1\" class=\"dataframe\">\n",
       "  <thead>\n",
       "    <tr style=\"text-align: right;\">\n",
       "      <th></th>\n",
       "      <th>comments</th>\n",
       "      <th>index</th>\n",
       "    </tr>\n",
       "  </thead>\n",
       "  <tbody>\n",
       "    <tr>\n",
       "      <th>0</th>\n",
       "      <td>Yvette picked us up from the bus stop on our a...</td>\n",
       "      <td>0</td>\n",
       "    </tr>\n",
       "    <tr>\n",
       "      <th>1</th>\n",
       "      <td>Lovely house with beautiful views, close to th...</td>\n",
       "      <td>1</td>\n",
       "    </tr>\n",
       "    <tr>\n",
       "      <th>2</th>\n",
       "      <td>Yvette is a generous host and a georgeous pers...</td>\n",
       "      <td>2</td>\n",
       "    </tr>\n",
       "    <tr>\n",
       "      <th>3</th>\n",
       "      <td>This is our first experience with Air B &amp; B; a...</td>\n",
       "      <td>3</td>\n",
       "    </tr>\n",
       "    <tr>\n",
       "      <th>4</th>\n",
       "      <td>Yvette is a very friendly host and happy to gi...</td>\n",
       "      <td>4</td>\n",
       "    </tr>\n",
       "    <tr>\n",
       "      <th>5</th>\n",
       "      <td>Yvette was so welcoming and lovely. We really ...</td>\n",
       "      <td>5</td>\n",
       "    </tr>\n",
       "    <tr>\n",
       "      <th>6</th>\n",
       "      <td>We had a fantastic time staying with Yvette. W...</td>\n",
       "      <td>6</td>\n",
       "    </tr>\n",
       "    <tr>\n",
       "      <th>7</th>\n",
       "      <td>We loved staying with Yvette is her georgeous ...</td>\n",
       "      <td>7</td>\n",
       "    </tr>\n",
       "    <tr>\n",
       "      <th>8</th>\n",
       "      <td>We had a lovely stay for 1 night at Yvette's p...</td>\n",
       "      <td>8</td>\n",
       "    </tr>\n",
       "    <tr>\n",
       "      <th>9</th>\n",
       "      <td>It was a really relaxed hassle free experience...</td>\n",
       "      <td>9</td>\n",
       "    </tr>\n",
       "    <tr>\n",
       "      <th>10</th>\n",
       "      <td>We had a lovely stay with Yvette and Alex in H...</td>\n",
       "      <td>10</td>\n",
       "    </tr>\n",
       "    <tr>\n",
       "      <th>11</th>\n",
       "      <td>We loved staying at Yvettes place in Hobart. S...</td>\n",
       "      <td>11</td>\n",
       "    </tr>\n",
       "    <tr>\n",
       "      <th>12</th>\n",
       "      <td>Yvette is a warm and welcoming host.  She kind...</td>\n",
       "      <td>12</td>\n",
       "    </tr>\n",
       "    <tr>\n",
       "      <th>13</th>\n",
       "      <td>This is a great house in a great location, wit...</td>\n",
       "      <td>13</td>\n",
       "    </tr>\n",
       "    <tr>\n",
       "      <th>14</th>\n",
       "      <td>A delightful hostess: we enjoyed her company a...</td>\n",
       "      <td>14</td>\n",
       "    </tr>\n",
       "    <tr>\n",
       "      <th>15</th>\n",
       "      <td>Though our stay with Yvette was brief, she was...</td>\n",
       "      <td>15</td>\n",
       "    </tr>\n",
       "    <tr>\n",
       "      <th>16</th>\n",
       "      <td>We had a very pleasant stay at Yvette's house....</td>\n",
       "      <td>16</td>\n",
       "    </tr>\n",
       "    <tr>\n",
       "      <th>17</th>\n",
       "      <td>I loved staying in Yvette's little cottage. It...</td>\n",
       "      <td>17</td>\n",
       "    </tr>\n",
       "    <tr>\n",
       "      <th>18</th>\n",
       "      <td>If visiting Hobart, STAY WITH YVETTE!!!  My si...</td>\n",
       "      <td>18</td>\n",
       "    </tr>\n",
       "    <tr>\n",
       "      <th>19</th>\n",
       "      <td>We had a pleasant stay with Yvette and Mitch (...</td>\n",
       "      <td>19</td>\n",
       "    </tr>\n",
       "    <tr>\n",
       "      <th>20</th>\n",
       "      <td>This BNB was really good value for money and i...</td>\n",
       "      <td>20</td>\n",
       "    </tr>\n",
       "    <tr>\n",
       "      <th>21</th>\n",
       "      <td>Our stay at Yvette's house was fantastic! Her ...</td>\n",
       "      <td>21</td>\n",
       "    </tr>\n",
       "    <tr>\n",
       "      <th>22</th>\n",
       "      <td>Yvette's house is on top of a hill overlooking...</td>\n",
       "      <td>22</td>\n",
       "    </tr>\n",
       "    <tr>\n",
       "      <th>23</th>\n",
       "      <td>We had a very enjoyable 2-night stay with Yvet...</td>\n",
       "      <td>23</td>\n",
       "    </tr>\n",
       "    <tr>\n",
       "      <th>24</th>\n",
       "      <td>A warm, beautiful and creative home.  Yvette m...</td>\n",
       "      <td>24</td>\n",
       "    </tr>\n",
       "    <tr>\n",
       "      <th>25</th>\n",
       "      <td>Yvette was very warm and welcoming to have us ...</td>\n",
       "      <td>25</td>\n",
       "    </tr>\n",
       "    <tr>\n",
       "      <th>26</th>\n",
       "      <td>Yvette has a really lovely place and is a grea...</td>\n",
       "      <td>26</td>\n",
       "    </tr>\n",
       "    <tr>\n",
       "      <th>27</th>\n",
       "      <td>Yvette is a wonderful host, very accommodating...</td>\n",
       "      <td>27</td>\n",
       "    </tr>\n",
       "    <tr>\n",
       "      <th>28</th>\n",
       "      <td>It was a fantastic experience staying with Yve...</td>\n",
       "      <td>28</td>\n",
       "    </tr>\n",
       "    <tr>\n",
       "      <th>29</th>\n",
       "      <td>Warm welcome from her. She even offered to pic...</td>\n",
       "      <td>29</td>\n",
       "    </tr>\n",
       "    <tr>\n",
       "      <th>...</th>\n",
       "      <td>...</td>\n",
       "      <td>...</td>\n",
       "    </tr>\n",
       "    <tr>\n",
       "      <th>187724</th>\n",
       "      <td>very nice experience, house is super clean and...</td>\n",
       "      <td>187724</td>\n",
       "    </tr>\n",
       "    <tr>\n",
       "      <th>187725</th>\n",
       "      <td>Great place,\\nReally well organised with heaps...</td>\n",
       "      <td>187725</td>\n",
       "    </tr>\n",
       "    <tr>\n",
       "      <th>187726</th>\n",
       "      <td>Stayed here for just one night. Super clean an...</td>\n",
       "      <td>187726</td>\n",
       "    </tr>\n",
       "    <tr>\n",
       "      <th>187727</th>\n",
       "      <td>The amazing sea views from our room - (and bea...</td>\n",
       "      <td>187727</td>\n",
       "    </tr>\n",
       "    <tr>\n",
       "      <th>187728</th>\n",
       "      <td>Amazing location right on the beach,  literall...</td>\n",
       "      <td>187728</td>\n",
       "    </tr>\n",
       "    <tr>\n",
       "      <th>187729</th>\n",
       "      <td>We very much enjoyed our stay at Milo and Jill...</td>\n",
       "      <td>187729</td>\n",
       "    </tr>\n",
       "    <tr>\n",
       "      <th>187730</th>\n",
       "      <td>Miles and Jill's place is in a beautiful locat...</td>\n",
       "      <td>187730</td>\n",
       "    </tr>\n",
       "    <tr>\n",
       "      <th>187731</th>\n",
       "      <td>Beautiful Hosts , Amazing views</td>\n",
       "      <td>187731</td>\n",
       "    </tr>\n",
       "    <tr>\n",
       "      <th>187732</th>\n",
       "      <td>The host canceled this reservation 34 days bef...</td>\n",
       "      <td>187732</td>\n",
       "    </tr>\n",
       "    <tr>\n",
       "      <th>187733</th>\n",
       "      <td>These guys were warm and welcoming, in a great...</td>\n",
       "      <td>187733</td>\n",
       "    </tr>\n",
       "    <tr>\n",
       "      <th>187734</th>\n",
       "      <td>very comfy and tidy place,sunshine room with p...</td>\n",
       "      <td>187734</td>\n",
       "    </tr>\n",
       "    <tr>\n",
       "      <th>187735</th>\n",
       "      <td>Was a great stay both hosts were amazing trish...</td>\n",
       "      <td>187735</td>\n",
       "    </tr>\n",
       "    <tr>\n",
       "      <th>187736</th>\n",
       "      <td>It‘s a nice place and the host is very lovely....</td>\n",
       "      <td>187736</td>\n",
       "    </tr>\n",
       "    <tr>\n",
       "      <th>187737</th>\n",
       "      <td>Fantastic place! Wonderful dogs and cats! Stil...</td>\n",
       "      <td>187737</td>\n",
       "    </tr>\n",
       "    <tr>\n",
       "      <th>187738</th>\n",
       "      <td>very good location</td>\n",
       "      <td>187738</td>\n",
       "    </tr>\n",
       "    <tr>\n",
       "      <th>187739</th>\n",
       "      <td>Very friendly and helpful family ! Only minor ...</td>\n",
       "      <td>187739</td>\n",
       "    </tr>\n",
       "    <tr>\n",
       "      <th>187740</th>\n",
       "      <td>Location is very convenient 位置及其方便</td>\n",
       "      <td>187740</td>\n",
       "    </tr>\n",
       "    <tr>\n",
       "      <th>187741</th>\n",
       "      <td>Okay place, Netflix is a plus +</td>\n",
       "      <td>187741</td>\n",
       "    </tr>\n",
       "    <tr>\n",
       "      <th>187742</th>\n",
       "      <td>Lovely house with beautiful mountain views and...</td>\n",
       "      <td>187742</td>\n",
       "    </tr>\n",
       "    <tr>\n",
       "      <th>187743</th>\n",
       "      <td>Justin is an amazing host and the place is gre...</td>\n",
       "      <td>187743</td>\n",
       "    </tr>\n",
       "    <tr>\n",
       "      <th>187744</th>\n",
       "      <td>Beautiful house, friendly dogs, clean bedroom ...</td>\n",
       "      <td>187744</td>\n",
       "    </tr>\n",
       "    <tr>\n",
       "      <th>187745</th>\n",
       "      <td>Justin's place is clean, super quiet at night,...</td>\n",
       "      <td>187745</td>\n",
       "    </tr>\n",
       "    <tr>\n",
       "      <th>187746</th>\n",
       "      <td>The host canceled this reservation 34 days bef...</td>\n",
       "      <td>187746</td>\n",
       "    </tr>\n",
       "    <tr>\n",
       "      <th>187747</th>\n",
       "      <td>Geoff is a charming host and the house is in a...</td>\n",
       "      <td>187747</td>\n",
       "    </tr>\n",
       "    <tr>\n",
       "      <th>187748</th>\n",
       "      <td>One of the bestest we ever experienced from Ai...</td>\n",
       "      <td>187748</td>\n",
       "    </tr>\n",
       "    <tr>\n",
       "      <th>187749</th>\n",
       "      <td>We had a lovely time staying at Maggie’s place...</td>\n",
       "      <td>187749</td>\n",
       "    </tr>\n",
       "    <tr>\n",
       "      <th>187750</th>\n",
       "      <td>Everything was the best\\nThe perfect place. Yo...</td>\n",
       "      <td>187750</td>\n",
       "    </tr>\n",
       "    <tr>\n",
       "      <th>187751</th>\n",
       "      <td>Definitely recommend to all the people who wan...</td>\n",
       "      <td>187751</td>\n",
       "    </tr>\n",
       "    <tr>\n",
       "      <th>187752</th>\n",
       "      <td>The host canceled this reservation 46 days bef...</td>\n",
       "      <td>187752</td>\n",
       "    </tr>\n",
       "    <tr>\n",
       "      <th>187753</th>\n",
       "      <td>Zicong and the other students who live in the ...</td>\n",
       "      <td>187753</td>\n",
       "    </tr>\n",
       "  </tbody>\n",
       "</table>\n",
       "<p>187754 rows × 2 columns</p>\n",
       "</div>"
      ],
      "text/plain": [
       "                                                 comments   index\n",
       "0       Yvette picked us up from the bus stop on our a...       0\n",
       "1       Lovely house with beautiful views, close to th...       1\n",
       "2       Yvette is a generous host and a georgeous pers...       2\n",
       "3       This is our first experience with Air B & B; a...       3\n",
       "4       Yvette is a very friendly host and happy to gi...       4\n",
       "5       Yvette was so welcoming and lovely. We really ...       5\n",
       "6       We had a fantastic time staying with Yvette. W...       6\n",
       "7       We loved staying with Yvette is her georgeous ...       7\n",
       "8       We had a lovely stay for 1 night at Yvette's p...       8\n",
       "9       It was a really relaxed hassle free experience...       9\n",
       "10      We had a lovely stay with Yvette and Alex in H...      10\n",
       "11      We loved staying at Yvettes place in Hobart. S...      11\n",
       "12      Yvette is a warm and welcoming host.  She kind...      12\n",
       "13      This is a great house in a great location, wit...      13\n",
       "14      A delightful hostess: we enjoyed her company a...      14\n",
       "15      Though our stay with Yvette was brief, she was...      15\n",
       "16      We had a very pleasant stay at Yvette's house....      16\n",
       "17      I loved staying in Yvette's little cottage. It...      17\n",
       "18      If visiting Hobart, STAY WITH YVETTE!!!  My si...      18\n",
       "19      We had a pleasant stay with Yvette and Mitch (...      19\n",
       "20      This BNB was really good value for money and i...      20\n",
       "21      Our stay at Yvette's house was fantastic! Her ...      21\n",
       "22      Yvette's house is on top of a hill overlooking...      22\n",
       "23      We had a very enjoyable 2-night stay with Yvet...      23\n",
       "24      A warm, beautiful and creative home.  Yvette m...      24\n",
       "25      Yvette was very warm and welcoming to have us ...      25\n",
       "26      Yvette has a really lovely place and is a grea...      26\n",
       "27      Yvette is a wonderful host, very accommodating...      27\n",
       "28      It was a fantastic experience staying with Yve...      28\n",
       "29      Warm welcome from her. She even offered to pic...      29\n",
       "...                                                   ...     ...\n",
       "187724  very nice experience, house is super clean and...  187724\n",
       "187725  Great place,\\nReally well organised with heaps...  187725\n",
       "187726  Stayed here for just one night. Super clean an...  187726\n",
       "187727  The amazing sea views from our room - (and bea...  187727\n",
       "187728  Amazing location right on the beach,  literall...  187728\n",
       "187729  We very much enjoyed our stay at Milo and Jill...  187729\n",
       "187730  Miles and Jill's place is in a beautiful locat...  187730\n",
       "187731                    Beautiful Hosts , Amazing views  187731\n",
       "187732  The host canceled this reservation 34 days bef...  187732\n",
       "187733  These guys were warm and welcoming, in a great...  187733\n",
       "187734  very comfy and tidy place,sunshine room with p...  187734\n",
       "187735  Was a great stay both hosts were amazing trish...  187735\n",
       "187736  It‘s a nice place and the host is very lovely....  187736\n",
       "187737  Fantastic place! Wonderful dogs and cats! Stil...  187737\n",
       "187738                                 very good location  187738\n",
       "187739  Very friendly and helpful family ! Only minor ...  187739\n",
       "187740                 Location is very convenient 位置及其方便  187740\n",
       "187741                    Okay place, Netflix is a plus +  187741\n",
       "187742  Lovely house with beautiful mountain views and...  187742\n",
       "187743  Justin is an amazing host and the place is gre...  187743\n",
       "187744  Beautiful house, friendly dogs, clean bedroom ...  187744\n",
       "187745  Justin's place is clean, super quiet at night,...  187745\n",
       "187746  The host canceled this reservation 34 days bef...  187746\n",
       "187747  Geoff is a charming host and the house is in a...  187747\n",
       "187748  One of the bestest we ever experienced from Ai...  187748\n",
       "187749  We had a lovely time staying at Maggie’s place...  187749\n",
       "187750  Everything was the best\\nThe perfect place. Yo...  187750\n",
       "187751  Definitely recommend to all the people who wan...  187751\n",
       "187752  The host canceled this reservation 46 days bef...  187752\n",
       "187753  Zicong and the other students who live in the ...  187753\n",
       "\n",
       "[187754 rows x 2 columns]"
      ]
     },
     "execution_count": 5,
     "metadata": {},
     "output_type": "execute_result"
    }
   ],
   "source": [
    "documents"
   ]
  },
  {
   "cell_type": "code",
   "execution_count": 2,
   "metadata": {
    "collapsed": true
   },
   "outputs": [
    {
     "name": "stderr",
     "output_type": "stream",
     "text": [
      "[nltk_data] Downloading package wordnet to\n",
      "[nltk_data]     C:\\Users\\malavika.suresh\\AppData\\Roaming\\nltk_data...\n",
      "[nltk_data]   Package wordnet is already up-to-date!\n",
      "[nltk_data] Downloading package stopwords to\n",
      "[nltk_data]     C:\\Users\\malavika.suresh\\AppData\\Roaming\\nltk_data...\n",
      "[nltk_data]   Package stopwords is already up-to-date!\n",
      "[nltk_data] Downloading package punkt to\n",
      "[nltk_data]     C:\\Users\\malavika.suresh\\AppData\\Roaming\\nltk_data...\n",
      "[nltk_data]   Package punkt is already up-to-date!\n"
     ]
    }
   ],
   "source": [
    "import gensim\n",
    "from gensim.utils import simple_preprocess\n",
    "from gensim.parsing.preprocessing import STOPWORDS\n",
    "from nltk.stem import WordNetLemmatizer, SnowballStemmer\n",
    "from nltk.stem.porter import *\n",
    "import numpy as np\n",
    "np.random.seed(2018)\n",
    "import nltk\n",
    "#nltk.download('wordnet') #This is one time\n",
    "from nltk.util import ngrams\n",
    "import string\n",
    "from nltk.corpus import stopwords \n",
    "from nltk.tokenize import word_tokenize\n",
    "#nltk.download('stopwords') #This is one time\n",
    "#nltk.download('punkt') #This is one time\n",
    "from nltk.tokenize import sent_tokenize\n",
    "\n",
    "from gensim.models import Word2Vec\n",
    " \n",
    "from nltk.cluster import KMeansClusterer\n",
    "import nltk\n",
    " \n",
    "from sklearn import cluster\n",
    "from sklearn import metrics\n",
    "\n",
    "import datetime\n",
    "\n",
    "from sklearn.decomposition import PCA\n",
    "from matplotlib import pyplot\n",
    "\n",
    "import gensim.corpora as corpora"
   ]
  },
  {
   "cell_type": "code",
   "execution_count": 105,
   "metadata": {},
   "outputs": [],
   "source": [
    "#def lemmatize_stemming(text):\n",
    "#    stemmer = PorterStemmer()\n",
    "#    return stemmer.stem(WordNetLemmatizer().lemmatize(text, pos='v'))\n",
    "import spacy\n",
    "nlp = spacy.load('en_core_web_sm', disable=['parser', 'ner'])\n",
    "def preprocess_sentence(text):\n",
    "    result = []\n",
    "    text=repr(text) # Remove non-unicode characters\n",
    "    text=((text.encode('ascii','ignore')).decode(\"utf-8\")).lower()\n",
    "    \n",
    "    # Remove new line characters\n",
    "    text = text.replace(\"\\\\r\\\\n\", \" \")\n",
    "    \n",
    "    # Remove basic stopwords\n",
    "    stop_words = set(stopwords.words('english'))\n",
    "    word_tokens = word_tokenize(text)  \n",
    "    text = [w for w in word_tokens if not w in stop_words]\n",
    "    text = (''.join([w+' ' for w in text])).strip()\n",
    "    \n",
    "    #Sentence tokenization\n",
    "    for token in sent_tokenize(text):\n",
    "        temp=[]\n",
    "        \n",
    "        # Remove punctuation\n",
    "        table=str.maketrans('', '', string.punctuation) #Think about stuff like \"pre-defined\"\n",
    "        token = [w.translate(table) for w in token]\n",
    "        token = (''.join([w for w in token])).strip()\n",
    "        \n",
    "        #Word tokenization\n",
    "        tokenized_words=word_tokenize(token)\n",
    "        #temp1 = (' '.join([lemmatize_stemming(w) for w in tokenized_words])).split()\n",
    "        #result.append(temp1)\n",
    "        \n",
    "        #extracting only distinct words\n",
    "        tokenized_words = list(set(tokenized_words))\n",
    "        \n",
    "        #Lemmatization and POS tagging - Extract only Nouns and Adjectives\n",
    "        allowed_postags=['NOUN', 'ADJ']\n",
    "        doc = nlp(\" \".join(tokenized_words)) \n",
    "        #for doc in nlp.pipe(\" \".join(tokenized_words), batch_size=10000, n_threads=3):\n",
    "            #pass\n",
    "        result.append([t.lemma_ for t in doc if t.pos_ in allowed_postags])            \n",
    "        \n",
    "    return result"
   ]
  },
  {
   "cell_type": "code",
   "execution_count": 107,
   "metadata": {},
   "outputs": [
    {
     "name": "stdout",
     "output_type": "stream",
     "text": [
      "Kentisbury Country House is a gorgeous, self catering rural retreat, ideal for romantic couples, families and groups of up to nine friends. A perfect base for exploring Cradle Mountain National Park and the North Coast of Tasmania. Kentisbury Country House is ideally situated to explore Cradle Mountain National Park. The property is situated in quiet, rural surroundings, perfect for a relaxing break. The luxurious, European style house has three queen bedrooms, a sofa bed plus three single roll away beds, two bathrooms, full kitchen and dining area, two living rooms, one of which is a stunning rotunda room. There are numerous choices for dining outdoors, on the large deck with views to Lake Barrington, under the birch trees or perhaps under the rose arbour. Our guests are welcome to share the seasonal produce from our organic vegetable garden and fruit trees.\n",
      "[['rural', 'couple', 'ideal', 'friend', 'romantic', 'gorgeous', 'self', 'family', 'kentisbury', 'house', 'country', 'group'], ['tasmania', 'mountain', 'perfect', 'north', 'cradle', 'park', 'coast', 'base', 'national'], ['mountain', 'cradle', 'park', 'kentisbury', 'house', 'country', 'national'], ['rural', 'break', 'quiet', 'relaxing', 'property', 'perfect'], ['full', 'roll', 'bed', 'luxurious', 'european', 'house', 'stunning', 'bedroom', 'sofa', 'style', 'rotunda', 'queen', 'bathroom', 'dining', 'room', 'bed', 'kitchen', 'room', 'single', 'area'], ['dining', 'tree', 'choice', 'birch', 'arbour', 'view', 'large', 'deck', 'numerous'], ['tree', 'garden', 'welcome', 'produce', 'organic', 'vegetable', 'fruit', 'seasonal', 'guest']]\n"
     ]
    }
   ],
   "source": [
    "test_text=documents['Summary+space'][2]\n",
    "print(documents['Summary+space'][2])\n",
    "print(preprocess_sentence(test_text))"
   ]
  },
  {
   "cell_type": "code",
   "execution_count": 108,
   "metadata": {},
   "outputs": [
    {
     "data": {
      "text/plain": [
       "[['rural',\n",
       "  'couple',\n",
       "  'ideal',\n",
       "  'friend',\n",
       "  'romantic',\n",
       "  'gorgeous',\n",
       "  'self',\n",
       "  'family',\n",
       "  'kentisbury',\n",
       "  'house',\n",
       "  'country',\n",
       "  'group'],\n",
       " ['tasmania',\n",
       "  'mountain',\n",
       "  'perfect',\n",
       "  'north',\n",
       "  'cradle',\n",
       "  'park',\n",
       "  'coast',\n",
       "  'base',\n",
       "  'national'],\n",
       " ['mountain', 'cradle', 'park', 'kentisbury', 'house', 'country', 'national'],\n",
       " ['rural', 'break', 'quiet', 'relaxing', 'property', 'perfect'],\n",
       " ['full',\n",
       "  'roll',\n",
       "  'bed',\n",
       "  'luxurious',\n",
       "  'european',\n",
       "  'house',\n",
       "  'stunning',\n",
       "  'bedroom',\n",
       "  'sofa',\n",
       "  'style',\n",
       "  'rotunda',\n",
       "  'queen',\n",
       "  'bathroom',\n",
       "  'dining',\n",
       "  'room',\n",
       "  'bed',\n",
       "  'kitchen',\n",
       "  'room',\n",
       "  'single',\n",
       "  'area'],\n",
       " ['dining',\n",
       "  'tree',\n",
       "  'choice',\n",
       "  'birch',\n",
       "  'arbour',\n",
       "  'view',\n",
       "  'large',\n",
       "  'deck',\n",
       "  'numerous'],\n",
       " ['tree',\n",
       "  'garden',\n",
       "  'welcome',\n",
       "  'produce',\n",
       "  'organic',\n",
       "  'vegetable',\n",
       "  'fruit',\n",
       "  'seasonal',\n",
       "  'guest']]"
      ]
     },
     "execution_count": 108,
     "metadata": {},
     "output_type": "execute_result"
    }
   ],
   "source": [
    "processed_sent = documents['Summary+space'].map(preprocess_sentence)\n",
    "processed_sent[2]"
   ]
  },
  {
   "cell_type": "code",
   "execution_count": 109,
   "metadata": {},
   "outputs": [],
   "source": [
    "processed_sent_final=[];\n",
    "for i in processed_sent:\n",
    "    for a in i:\n",
    "        processed_sent_final.append(a)"
   ]
  },
  {
   "cell_type": "code",
   "execution_count": 64,
   "metadata": {},
   "outputs": [
    {
     "data": {
      "text/plain": [
       "['sofa', 'bed']"
      ]
     },
     "execution_count": 64,
     "metadata": {},
     "output_type": "execute_result"
    }
   ],
   "source": [
    "processed_sent_final[17]\n",
    "#processed_sent_final[2][:2]"
   ]
  },
  {
   "cell_type": "code",
   "execution_count": 110,
   "metadata": {},
   "outputs": [],
   "source": [
    "# Create Dictionary\n",
    "id2word = corpora.Dictionary(processed_sent_final)"
   ]
  },
  {
   "cell_type": "code",
   "execution_count": 111,
   "metadata": {},
   "outputs": [],
   "source": [
    "#len(id2word)\n",
    "with open('D:\\\\PGP-BABI\\\\Capstone\\\\Airbnb\\\\Clustering\\\\sumspace_dict_spaCy.csv', 'w') as fp:\n",
    "    fulldictionary=[fp.write(id2word[i]+\",\"+str(id2word.dfs[i])+\"\\n\") for i in range(0,len(id2word)-1)]"
   ]
  },
  {
   "cell_type": "code",
   "execution_count": 39,
   "metadata": {},
   "outputs": [
    {
     "name": "stdout",
     "output_type": "stream",
     "text": [
      "3006138\n"
     ]
    }
   ],
   "source": [
    "len(processed_sent_final)\n",
    "z = 0\n",
    "for i in processed_sent_final:\n",
    "    for x in i:\n",
    "        z = z + 1\n",
    "print(z)"
   ]
  },
  {
   "cell_type": "code",
   "execution_count": 124,
   "metadata": {},
   "outputs": [],
   "source": [
    "# training model\n",
    "model = Word2Vec(processed_sent_final, min_count=50, window=3)\n",
    "#Try different parameter values, size, sg=1 (this is more accurate) , window"
   ]
  },
  {
   "cell_type": "code",
   "execution_count": 125,
   "metadata": {},
   "outputs": [
    {
     "name": "stderr",
     "output_type": "stream",
     "text": [
      "C:\\Users\\malavika.suresh\\AppData\\Local\\Continuum\\anaconda3\\lib\\site-packages\\ipykernel_launcher.py:2: DeprecationWarning: Call to deprecated `__getitem__` (Method will be removed in 4.0.0, use self.wv.__getitem__() instead).\n",
      "  \n"
     ]
    }
   ],
   "source": [
    "# get vector data\n",
    "X = model[model.wv.vocab]\n",
    "#print (X)"
   ]
  },
  {
   "cell_type": "code",
   "execution_count": 22,
   "metadata": {
    "collapsed": true
   },
   "outputs": [
    {
     "name": "stderr",
     "output_type": "stream",
     "text": [
      "C:\\Users\\malavika.suresh\\AppData\\Local\\Continuum\\anaconda3\\lib\\site-packages\\ipykernel_launcher.py:1: DeprecationWarning: Call to deprecated `most_similar` (Method will be removed in 4.0.0, use self.wv.most_similar() instead).\n",
      "  \"\"\"Entry point for launching an IPython kernel.\n"
     ]
    },
    {
     "name": "stdout",
     "output_type": "stream",
     "text": [
      "[('grocery', 0.6475470066070557), ('dinner', 0.5814264416694641), ('provision', 0.5801143646240234), ('meal', 0.5661178827285767), ('supply', 0.5397285223007202), ('coffee', 0.5367319583892822), ('restaurant', 0.5188125371932983), ('delicious', 0.5143728852272034), ('local', 0.501193106174469), ('store', 0.4941306710243225)]\n"
     ]
    },
    {
     "name": "stderr",
     "output_type": "stream",
     "text": [
      "C:\\Users\\malavika.suresh\\AppData\\Local\\Continuum\\anaconda3\\lib\\site-packages\\ipykernel_launcher.py:2: DeprecationWarning: Call to deprecated `similarity` (Method will be removed in 4.0.0, use self.wv.similarity() instead).\n",
      "  \n"
     ]
    },
    {
     "name": "stdout",
     "output_type": "stream",
     "text": [
      "0.46994984\n"
     ]
    }
   ],
   "source": [
    "print (model.most_similar(positive=['food'], negative=[], topn=10))\n",
    "print (model.similarity('food', 'breakfast'))"
   ]
  },
  {
   "cell_type": "code",
   "execution_count": null,
   "metadata": {},
   "outputs": [],
   "source": [
    "print (model['food'])"
   ]
  },
  {
   "cell_type": "code",
   "execution_count": 126,
   "metadata": {},
   "outputs": [
    {
     "name": "stdout",
     "output_type": "stream",
     "text": [
      "906\n"
     ]
    }
   ],
   "source": [
    "#print (list(model.wv.vocab))\n",
    "print (len(list(model.wv.vocab)))"
   ]
  },
  {
   "cell_type": "code",
   "execution_count": 127,
   "metadata": {},
   "outputs": [],
   "source": [
    "model.wv.save_word2vec_format('model_sumspace_CBOW_s100_w3_mc50.txt', binary=False)"
   ]
  },
  {
   "cell_type": "code",
   "execution_count": 53,
   "metadata": {},
   "outputs": [
    {
     "name": "stdout",
     "output_type": "stream",
     "text": [
      "[6.0, 4.0]\n"
     ]
    }
   ],
   "source": [
    "print(pyplot.rcParams[\"figure.figsize\"])\n",
    "fig_size = pyplot.rcParams[\"figure.figsize\"]\n",
    "fig_size[0] = 12\n",
    "fig_size[1] = 9\n",
    "pyplot.rcParams[\"figure.figsize\"] = fig_size"
   ]
  },
  {
   "cell_type": "code",
   "execution_count": 128,
   "metadata": {},
   "outputs": [
    {
     "data": {
      "image/png": "[encoded data removed]",
      "text/plain": [
       "<Figure size 864x648 with 1 Axes>"
      ]
     },
     "metadata": {
      "needs_background": "light"
     },
     "output_type": "display_data"
    }
   ],
   "source": [
    "pca = PCA(n_components=2)\n",
    "result = pca.fit_transform(X)\n",
    "# create a scatter plot of the projection\n",
    "pyplot.scatter(result[:, 0], result[:, 1], color = 'tab:cyan')\n",
    "words = list(model.wv.vocab)\n",
    "for i, word in enumerate(words[:50]):\n",
    "    pyplot.annotate(word, xy=(result[i, 0], result[i, 1]), weight='bold', size = 11)\n",
    "pyplot.show()"
   ]
  },
  {
   "cell_type": "code",
   "execution_count": 132,
   "metadata": {},
   "outputs": [
    {
     "name": "stdout",
     "output_type": "stream",
     "text": [
      "2019-04-07 17:58:37.022478\n",
      "2019-04-07 17:58:53.805306\n"
     ]
    }
   ],
   "source": [
    "print(datetime.datetime.now())\n",
    "NUM_CLUSTERS=4\n",
    "kclusterer = KMeansClusterer(NUM_CLUSTERS, distance=nltk.cluster.util.cosine_distance, repeats=25)\n",
    "assigned_clusters = kclusterer.cluster(X, assign_clusters=True)\n",
    "print(datetime.datetime.now())"
   ]
  },
  {
   "cell_type": "code",
   "execution_count": 55,
   "metadata": {
    "collapsed": true
   },
   "outputs": [
    {
     "name": "stdout",
     "output_type": "stream",
     "text": [
      "[0, 1, 0, 1, 2, 4, 3, 0, 0, 2, 4, 2, 2, 4, 0, 0, 2, 1, 1, 1, 1, 1, 1, 1, 1, 0, 0, 4, 1, 2, 0, 0, 0, 1, 1, 1, 1, 1, 1, 1, 0, 0, 0, 0, 3, 3, 3, 3, 0, 4, 4, 2, 3, 1, 1, 1, 1, 0, 3, 4, 2, 3, 3, 3, 1, 1, 2, 1, 3, 2, 3, 1, 0, 4, 0, 3, 2, 3, 0, 2, 4, 4, 4, 2, 2, 1, 2, 0, 1, 4, 3, 1, 0, 0, 4, 4, 4, 4, 4, 3, 0, 1, 1, 4, 3, 3, 4, 4, 4, 1, 3, 1, 0, 3, 1, 4, 0, 0, 3, 3, 1, 0, 2, 3, 3, 1, 1, 3, 3, 4, 4, 1, 4, 1, 3, 3, 3, 0, 0, 3, 4, 0, 0, 4, 1, 4, 2, 2, 3, 1, 3, 2, 1, 3, 4, 2, 0, 2, 0, 0, 1, 1, 3, 0, 0, 0, 0, 0, 2, 2, 4, 1, 1, 0, 3, 0, 3, 3, 2, 3, 2, 2, 0, 3, 1, 4, 3, 4, 4, 4, 1, 2, 0, 4, 4, 3, 1, 4, 0, 2, 1, 3, 0, 4, 4, 1, 3, 0, 0, 3, 2, 4, 0, 0, 3, 2, 0, 1, 4, 4, 2, 3, 3, 4, 2, 0, 1, 4, 1, 0, 4, 0, 4, 0, 0, 1, 3, 4, 4, 4, 2, 4, 4, 4, 3, 0, 4, 0, 1, 1, 3, 4, 4, 1, 1, 4, 3, 2, 0, 3, 1, 2, 2, 4, 1, 4, 2, 4, 4, 3, 0, 0, 0, 4, 0, 0, 0, 1, 1, 2, 0, 2, 4, 0, 0, 0, 0, 4, 2, 3, 1, 3, 1, 0, 3, 1, 4, 3, 3, 1, 1, 1, 4, 2, 2, 4, 4, 4, 4, 4, 4, 0, 4, 1, 2, 0, 0, 2, 1, 3, 3, 1, 4, 0, 4, 4, 1, 2, 3, 4, 1, 4, 3, 2, 3, 2, 4, 4, 4, 1, 1, 0, 4, 0, 1, 4, 3, 1, 3, 0, 2, 0, 0, 2, 2, 3, 2, 1, 2, 4, 0, 4, 0, 4, 4, 1, 1, 1, 1, 3, 4, 1, 1, 1, 4, 3, 1, 2, 1, 4, 2, 4, 0, 0, 0, 4, 0, 0, 3, 0, 2, 1, 3, 2, 2, 4, 4, 1, 3, 4, 3, 4, 2, 1, 3, 0, 1, 1, 0, 3, 0, 0, 2, 1, 4, 4, 2, 0, 0, 0, 1, 1, 4, 4, 2, 2, 1, 2, 2, 2, 2, 2, 2, 2, 2, 0, 4, 4, 1, 2, 0, 0, 1, 1, 1, 1, 0]\n"
     ]
    }
   ],
   "source": [
    "print (assigned_clusters)"
   ]
  },
  {
   "cell_type": "code",
   "execution_count": 25,
   "metadata": {},
   "outputs": [],
   "source": [
    "words = list(model.wv.vocab)\n",
    "#fileprint=[]\n",
    " \n",
    "with open('D:\\\\PGP-BABI\\\\Capstone\\\\Airbnb\\\\Clustering\\\\review_cluster_SG_w3_mincount_spaCy_1000.csv', 'w') as fp:\n",
    "    for i, word in enumerate(words): \n",
    "        fp.write((word + \",\" + str(assigned_clusters[i])+\"\\n\"))\n"
   ]
  },
  {
   "cell_type": "code",
   "execution_count": 133,
   "metadata": {},
   "outputs": [
    {
     "data": {
      "image/png": "[encoded data removed]",
      "text/plain": [
       "<Figure size 864x648 with 1 Axes>"
      ]
     },
     "metadata": {
      "needs_background": "light"
     },
     "output_type": "display_data"
    }
   ],
   "source": [
    "# create a scatter plot of the clusters\n",
    "a = ['tab:cyan','tab:blue','tab:green','y','r']\n",
    "for i, word in enumerate(words[:]):\n",
    "    #if assigned_clusters[i]==4:\n",
    "    pyplot.scatter(result[i, 0], result[i, 1], color = a[assigned_clusters[i]])\n",
    "for i, word in enumerate(words[:50]):\n",
    "#for i, word in enumerate(words[:]):\n",
    "    #if assigned_clusters[i]==4:\n",
    "    pyplot.annotate(word, xy=(result[i, 0], result[i, 1]), weight='bold', size = 11)\n",
    "pyplot.show()"
   ]
  },
  {
   "cell_type": "code",
   "execution_count": 37,
   "metadata": {
    "collapsed": true
   },
   "outputs": [
    {
     "name": "stdout",
     "output_type": "stream",
     "text": [
      "Cluster id labels for inputted data\n",
      "[4 3 4 1 1 1 1 4 1 1 0 0 1 1 4 1 0 2 3 2 2 2 2 2 2 4 4 1 3 1 4 4 4 3 3 2 3\n",
      " 3 3 3 1 4 4 4 1 1 1 1 1 0 1 1 1 1 3 1 3 1 1 0 1 1 1 1 4 3 1 3 1 1 1 3 4 1\n",
      " 4 1 1 1 4 1 1 0 0 0 1 2 1 1 3 1 1 3 4 4 0 1 1 1 1 1 3 3 3 1 1 1 0 2 2 1 1\n",
      " 3 4 1 3 1 4 4 1 1 2 4 1 1 1 2 3 1 1 1 2 2 1 2 1 1 1 4 4 1 1 1 1 0 3 0 1 0\n",
      " 1 2 1 4 3 1 1 1 4 1 1 4 2 3 1 4 4 4 4 4 0 0 0 2 2 4 1 4 1 3 1 1 1 1 1 1 2\n",
      " 0 1 0 1 2 1 1 4 0 0 1 3 0 4 1 3 1 4 1 1 3 1 4 1 1 0 0 4 4 1 4 4 2 0 0 0 1\n",
      " 1 1 1 4 3 0 1 4 1 4 2 4 4 1 1 0 1 0 0 2 0 0 1 4 1 4 2 1 1 1 0 1 2 1 1 0 4\n",
      " 3 1 1 1 1 2 0 0 0 1 2 4 4 4 0 4 4 4 2 3 1 1 0 1 4 4 4 4 1 1 1 2 1 2 4 1 2\n",
      " 0 1 3 1 3 3 0 1 0 2 0 1 0 0 0 4 1 3 1 4 4 0 2 1 1 4 1 4 0 1 3 1 1 0 3 2 1\n",
      " 1 1 1 0 0 1 2 2 1 1 4 1 1 3 2 1 1 1 4 4 0 4 1 1 2 1 0 4 1 4 1 2 3 3 3 3 1\n",
      " 1 3 3 3 1 1 2 1 3 1 1 1 4 4 4 1 4 4 1 4 1 3 1 1 1 1 1 3 1 0 3 1 0 2 0 4 2\n",
      " 2 4 1 4 4 1 3 0 1 1 4 4 4 2 2 1 0 0 1 3 1 1 1 1 1 1 0 1 4 0 1 2 4 4 4 3 3\n",
      " 3 3 4]\n",
      "Centroids data\n",
      "[[ 1.72754392e-01  9.23324972e-02  1.40500680e-01  2.18767934e-02\n",
      "  -7.24582933e-03 -1.52617246e-02 -4.18151692e-02 -1.58913016e-01\n",
      "  -2.15745240e-01  6.52488992e-02  1.62560388e-01  6.35327175e-02\n",
      "  -6.29052594e-02 -6.14742264e-02 -1.32638484e-01 -5.88431880e-02\n",
      "  -5.42528033e-02  2.11191118e-01  5.96806444e-02  1.42136231e-01\n",
      "   2.00135410e-02 -7.10238591e-02 -6.26020730e-02  1.11156076e-01\n",
      "  -1.79556087e-02  1.26072913e-01  1.25261128e-01  3.11940581e-01\n",
      "  -2.10172832e-02 -6.76268339e-02  6.30301237e-02 -2.27022499e-01\n",
      "   1.89816892e-01  1.23995274e-01  7.22615272e-02 -1.85927555e-01\n",
      "   1.02290809e-01  6.15609661e-02 -1.55408591e-01 -2.25038141e-01\n",
      "  -6.37924746e-02  1.05824113e-01  1.25400946e-01 -2.22160786e-01\n",
      "   2.35064402e-01  2.35946566e-01 -2.09030539e-01 -1.00974649e-01\n",
      "  -9.61379558e-02 -2.46255010e-01 -3.58555540e-02 -1.76977932e-01\n",
      "  -1.49835303e-01  1.50052179e-02 -5.36113828e-02 -8.07836838e-03\n",
      "  -1.86539382e-01  7.69458860e-02  1.68771401e-01  6.72309101e-02\n",
      "  -1.60547137e-01  2.90378511e-01 -4.50045876e-02 -7.24411160e-02\n",
      "  -2.00093359e-01  1.55331746e-01 -2.42257833e-01  2.25748718e-01\n",
      "   1.28248945e-01 -5.26523948e-01 -3.04172844e-01 -1.41335621e-01\n",
      "   9.37778950e-02 -4.76354733e-03 -2.89845496e-01  2.71279067e-02\n",
      "   2.44648665e-01 -3.82513404e-01 -1.38700247e-01 -6.88708946e-02\n",
      "   9.55361649e-02  8.60166997e-02 -4.54427153e-02 -1.00782543e-01\n",
      "  -1.00308694e-01  4.56032716e-03  3.70988362e-02 -2.70127654e-02\n",
      "   1.32141873e-01  2.88053393e-01  1.17788792e-01 -2.13478208e-01\n",
      "   8.59150514e-02 -4.56026196e-02  3.86117697e-02 -1.99980773e-02\n",
      "  -1.09661825e-01 -3.23711336e-01  5.94218522e-02 -9.55139250e-02]\n",
      " [ 1.17672622e-01 -1.42798334e-01  1.80854946e-01  1.15575038e-01\n",
      "   2.16494091e-02 -1.45265356e-01 -4.40369919e-02 -1.82335794e-01\n",
      "  -1.22203633e-01  5.95617369e-02  9.67742503e-02  4.35191691e-02\n",
      "  -1.00070640e-01  1.11689992e-01  3.85487825e-02 -1.55430079e-01\n",
      "  -7.93610048e-03  7.95908272e-02 -4.49451171e-02 -1.04314610e-02\n",
      "   1.82631135e-01 -2.76845116e-02  4.16679494e-02  1.58739150e-01\n",
      "  -4.01184931e-02 -1.64475571e-02  1.86443478e-01  7.12931231e-02\n",
      "  -1.34827197e-02  3.92269343e-03 -1.96406245e-03 -1.73414528e-01\n",
      "   1.06596783e-01  7.32087195e-02  1.32594302e-01  1.43481363e-02\n",
      "  -1.78514153e-01 -1.09173559e-01  1.11935660e-02 -2.06249446e-01\n",
      "  -8.26249346e-02  1.60409510e-02 -2.08981410e-02 -7.81639218e-02\n",
      "   3.55854481e-02  2.86836363e-02 -1.14092603e-01 -2.91408971e-03\n",
      "  -1.54572353e-01 -8.58389139e-02 -5.95305637e-02 -5.42407930e-02\n",
      "  -5.74252717e-02 -3.95695399e-03  7.14057311e-02  2.36901641e-03\n",
      "  -1.25673726e-01 -1.19029701e-01  1.16596580e-01 -5.68851754e-02\n",
      "  -1.98772196e-02  1.75748020e-01 -4.08785641e-02 -8.40750560e-02\n",
      "  -1.67310119e-01  2.35925630e-01  2.57617682e-02  1.06013231e-01\n",
      "   3.74912992e-02 -2.84606934e-01 -6.83856979e-02 -1.75505623e-01\n",
      "  -1.49703309e-01 -9.86961871e-02  5.59619255e-03  8.50454122e-02\n",
      "   1.25236452e-01 -1.44202203e-01  4.86836620e-02 -1.51750699e-01\n",
      "  -7.06907883e-02 -8.32274705e-02  9.14559215e-02 -9.62672085e-02\n",
      "  -4.42538485e-02  1.00969031e-01 -3.97111513e-02 -5.20408079e-02\n",
      "   4.46165502e-02  1.96264401e-01 -9.65503454e-02 -1.36294551e-02\n",
      "  -8.10075551e-02 -1.40256107e-01 -1.05836406e-01  1.62362754e-02\n",
      "   7.81211257e-03 -1.97216064e-01  1.01757497e-02 -1.39846638e-01]\n",
      " [ 1.70453221e-01  1.19440362e-01  3.18568721e-02 -7.66596198e-02\n",
      "  -1.30803302e-01  1.01204142e-02 -1.48979634e-01 -3.90397131e-01\n",
      "  -2.80669481e-02  1.73784733e-01  1.79884717e-01 -4.19650674e-02\n",
      "   1.61256716e-02  7.10250586e-02  1.82681441e-01 -2.05914199e-01\n",
      "  -1.26412779e-01 -2.56044418e-03 -1.21876158e-01  2.40589902e-01\n",
      "   1.92153245e-01  5.75351976e-02 -1.30880967e-01 -5.87928668e-02\n",
      "  -2.10636675e-01 -1.08475275e-01 -3.46163511e-02 -1.11337960e-01\n",
      "   2.81386852e-01 -2.57322609e-01  6.10503554e-03 -1.27139390e-01\n",
      "   3.54759246e-01  1.94206446e-01  1.35786265e-01 -3.71875279e-02\n",
      "  -1.27087221e-01 -1.43735379e-01 -7.67079042e-03 -4.33897078e-02\n",
      "  -3.41449231e-01  1.72890455e-01  3.86052951e-02 -2.84227580e-01\n",
      "  -1.09665379e-01  2.17831403e-01 -1.20173588e-01  1.20077491e-01\n",
      "  -9.69448835e-02 -1.55665934e-01 -7.76996240e-02  2.13962048e-03\n",
      "  -2.06200063e-01  8.02253187e-02 -1.50631309e-01  9.13214535e-02\n",
      "  -6.43823147e-02  1.04210868e-01  3.50794196e-03 -4.73321788e-02\n",
      "  -5.32982983e-02  3.94939601e-01 -1.69882849e-01 -5.95844425e-02\n",
      "  -4.97068256e-01  1.68810040e-01 -9.80254076e-03  1.24709658e-01\n",
      "   1.93583697e-01 -3.37123305e-01 -3.52530509e-01 -5.19475415e-02\n",
      "   2.86962271e-01 -2.15401113e-01 -9.27646682e-02  5.03301024e-02\n",
      "   8.21277648e-02 -3.19587618e-01 -2.73399144e-01 -5.23488075e-02\n",
      "  -2.49016553e-01 -6.92225322e-02  1.30185574e-01  7.06851482e-02\n",
      "  -9.76948962e-02  4.59857136e-02  1.27996445e-01 -1.03039652e-01\n",
      "   1.80482879e-01  2.37420991e-01  1.07060872e-01 -1.08612441e-02\n",
      "   1.18697189e-01 -2.42888242e-01 -3.56759280e-02 -1.99344680e-01\n",
      "  -9.42539871e-02 -1.36277586e-01  1.52913138e-01  4.81533408e-02]\n",
      " [ 2.16525272e-02 -1.78907096e-01  1.62705839e-01  2.47764513e-02\n",
      "   1.53788608e-02 -1.64505616e-01 -2.66458750e-01 -2.40843356e-01\n",
      "  -1.31481081e-01 -1.27604127e-01  3.55838507e-01  1.14610210e-01\n",
      "  -1.14687525e-01 -1.18108876e-01  2.07970403e-02 -3.55024636e-02\n",
      "  -7.70848915e-02  5.13405502e-02 -2.08517686e-02  1.92880437e-01\n",
      "   2.09122553e-01 -1.52929008e-01  2.41374914e-02 -5.12619093e-02\n",
      "  -4.15736616e-01 -1.04534104e-01  2.51682997e-01 -2.36453697e-01\n",
      "   1.10810056e-01 -9.75479484e-02  4.08012159e-02 -1.70154065e-01\n",
      "  -6.16157651e-02  1.42495111e-01  6.30558282e-02  5.50706089e-02\n",
      "  -1.17142096e-01 -6.66895062e-02  4.32552919e-02 -2.59327829e-01\n",
      "  -3.78917992e-01  2.17824690e-02 -5.67932986e-02 -1.42238796e-01\n",
      "  -3.79353821e-01 -1.40422106e-01  1.15370266e-01  1.70643404e-01\n",
      "  -1.40830517e-01 -6.05971888e-02  2.86869824e-01 -2.05593020e-01\n",
      "  -2.24001445e-02  7.36926049e-02  1.01039402e-01  4.21782210e-02\n",
      "   1.81432173e-01  2.16439605e-01  2.72897780e-01 -1.86981931e-01\n",
      "   4.37696232e-03  1.53453171e-01  5.05968928e-03  3.35629851e-01\n",
      "  -2.48139739e-01  2.56792247e-01  9.18485522e-02  9.73293483e-02\n",
      "  -5.00982888e-02 -3.86751026e-01 -1.76250950e-01 -1.42252490e-01\n",
      "  -1.78002626e-01 -6.20553643e-03  2.23425046e-01  4.45448831e-02\n",
      "   5.90530001e-02 -2.61191726e-01  1.83265492e-01 -4.50710393e-02\n",
      "   9.93331596e-02 -1.24767587e-01  1.74852580e-01 -2.52957374e-01\n",
      "  -1.53240532e-01  6.93550557e-02  1.19615048e-01 -3.63954790e-02\n",
      "   3.42425168e-01  2.88008302e-02  4.71774153e-02  7.46066123e-02\n",
      "   1.75207555e-02 -4.16834652e-01 -2.80282050e-01 -2.03611210e-01\n",
      "   4.03152406e-02 -7.17351586e-02  2.95868903e-01 -1.53491676e-01]\n",
      " [ 8.48973170e-02 -5.59611619e-03 -4.93127555e-02  6.55786768e-02\n",
      "   6.37872592e-02 -2.05518305e-03  6.02846593e-02 -6.25389740e-02\n",
      "  -4.12434816e-01 -9.82647166e-02 -2.35178024e-02  2.83636749e-01\n",
      "  -1.18608028e-03  2.39320785e-01  1.64170951e-01 -7.51342624e-02\n",
      "   1.65611222e-01  1.71168782e-02  1.60930917e-01  1.94479346e-01\n",
      "   2.68351376e-01 -8.59897435e-02  2.42740810e-01  2.26771981e-01\n",
      "  -1.30840480e-01 -9.36346222e-03  7.17001706e-02 -3.75203788e-04\n",
      "   1.74309742e-02  5.94046786e-02  1.50992140e-01 -1.38508737e-01\n",
      "   8.04402530e-02  1.49241582e-01  2.24980563e-02  1.02251746e-01\n",
      "  -1.19607307e-01 -8.10614601e-03 -2.07130238e-03 -1.01077780e-01\n",
      "  -1.96917206e-01  2.05722570e-01  1.71251148e-01 -8.48129615e-02\n",
      "   1.87163413e-01  8.39640424e-02 -1.39152080e-01  8.03771317e-02\n",
      "  -1.37450263e-01  2.01072171e-02  5.76302186e-02 -2.10901387e-02\n",
      "   8.73136446e-02 -4.16937619e-02 -1.57606721e-01  3.76034267e-02\n",
      "  -2.64213145e-01 -8.21692497e-02  3.41410398e-01 -1.72950160e-02\n",
      "   1.87365115e-01  2.23820642e-01 -1.50674969e-01 -2.74157114e-02\n",
      "  -3.08827639e-01  8.71582776e-02 -1.68077275e-02 -4.50778827e-02\n",
      "  -1.59898281e-01 -2.90065587e-01  8.17287639e-02 -1.07080847e-01\n",
      "  -3.15945327e-01  7.30460137e-03  1.33338906e-02  2.29970321e-01\n",
      "  -5.58125600e-02  7.61284083e-02 -8.07370991e-03  4.48148847e-02\n",
      "  -2.07390666e-01 -1.69265419e-01  2.02766150e-01 -1.10332772e-01\n",
      "   2.01984003e-01 -1.83066532e-01  3.18869501e-02 -5.13383113e-02\n",
      "   1.25804201e-01  2.39498019e-01  7.37684406e-03 -2.20535070e-01\n",
      "   5.91071323e-02 -3.10970545e-02 -3.74482989e-01 -4.59142327e-02\n"
     ]
    },
    {
     "name": "stdout",
     "output_type": "stream",
     "text": [
      "  -2.92545557e-02 -2.76537955e-01 -8.61285105e-02 -4.10629690e-01]]\n",
      "Score (Opposite of the value of X on the K-means objective which is Sum of distances of samples to their closest cluster center):\n",
      "-2623.7593\n"
     ]
    }
   ],
   "source": [
    "kmeans = cluster.KMeans(n_clusters=NUM_CLUSTERS)\n",
    "kmeans.fit(X)\n",
    " \n",
    "labels = kmeans.labels_\n",
    "centroids = kmeans.cluster_centers_\n",
    " \n",
    "print (\"Cluster id labels for inputted data\")\n",
    "print (labels)\n",
    "print (\"Centroids data\")\n",
    "print (centroids)\n",
    " \n",
    "print (\"Score (Opposite of the value of X on the K-means objective which is Sum of distances of samples to their closest cluster center):\")\n",
    "print (kmeans.score(X))\n"
   ]
  },
  {
   "cell_type": "code",
   "execution_count": 40,
   "metadata": {},
   "outputs": [
    {
     "name": "stdout",
     "output_type": "stream",
     "text": [
      "Silhouette_score: \n",
      "0.05271186\n"
     ]
    }
   ],
   "source": [
    "silhouette_score = metrics.silhouette_score(X, labels, metric='euclidean')\n",
    " \n",
    "print (\"Silhouette_score: \")\n",
    "print (silhouette_score)"
   ]
  },
  {
   "cell_type": "code",
   "execution_count": 129,
   "metadata": {},
   "outputs": [
    {
     "data": {
      "image/png": "[encoded data removed]",
      "text/plain": [
       "<Figure size 864x648 with 1 Axes>"
      ]
     },
     "metadata": {
      "needs_background": "light"
     },
     "output_type": "display_data"
    }
   ],
   "source": [
    "for i in range(3,11):\n",
    "    NUM_CLUSTERS=i\n",
    "    kclusterer = KMeansClusterer(NUM_CLUSTERS, distance=nltk.cluster.util.cosine_distance, repeats=25)\n",
    "    assigned_clusters = kclusterer.cluster(X, assign_clusters=True)\n",
    "    kmeans = cluster.KMeans(n_clusters=NUM_CLUSTERS)\n",
    "    kmeans.fit(X)\n",
    "    labels = kmeans.labels_\n",
    "    silhouette_score = metrics.silhouette_score(X, labels, metric='euclidean')\n",
    "    pyplot.scatter(i,silhouette_score)\n",
    "    words = list(model.wv.vocab) \n",
    "    with open('D:\\\\PGP-BABI\\\\Capstone\\\\Airbnb\\\\Clustering\\\\sumspace_cluster_CBOW_w3_spaCy_mincount_8_'+str(i)+'.csv', 'w') as fp:\n",
    "        for i, word in enumerate(words): \n",
    "            fp.write((word + \",\" + str(assigned_clusters[i])+\"\\n\"))\n",
    "pyplot.show()"
   ]
  }
 ],
 "metadata": {
  "kernelspec": {
   "display_name": "Python 3",
   "language": "python",
   "name": "python3"
  },
  "language_info": {
   "codemirror_mode": {
    "name": "ipython",
    "version": 3
   },
   "file_extension": ".py",
   "mimetype": "text/x-python",
   "name": "python",
   "nbconvert_exporter": "python",
   "pygments_lexer": "ipython3",
   "version": "3.7.3"
  }
 },
 "nbformat": 4,
 "nbformat_minor": 2
}
