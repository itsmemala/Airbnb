{
 "cells": [
  {
   "cell_type": "code",
   "execution_count": 121,
   "metadata": {},
   "outputs": [],
   "source": [
    "import pandas as pd\n",
    "import numpy as np"
   ]
  },
  {
   "cell_type": "code",
   "execution_count": 120,
   "metadata": {},
   "outputs": [],
   "source": [
    "data=pd.read_csv('D:\\\\GitHub\\\\Airbnb\\\\Feature Mapping + Sentiment\\\\Final_Reviewer_Scores.csv', error_bad_lines=False)"
   ]
  },
  {
   "cell_type": "code",
   "execution_count": 123,
   "metadata": {},
   "outputs": [],
   "source": [
    "interaction_matrix = np.array(data.pivot(index = 'reviewer_id', columns ='listing_id', values = 'overall_avg').fillna(0))"
   ]
  },
  {
   "cell_type": "code",
   "execution_count": 134,
   "metadata": {},
   "outputs": [],
   "source": [
    "check_names=data.pivot(index = 'reviewer_id', columns ='listing_id', values = 'overall_avg').fillna(0)"
   ]
  },
  {
   "cell_type": "code",
   "execution_count": 142,
   "metadata": {},
   "outputs": [
    {
     "data": {
      "text/plain": [
       "76.10525078999997"
      ]
     },
     "execution_count": 142,
     "metadata": {},
     "output_type": "execute_result"
    }
   ],
   "source": [
    "#check if values exist\n",
    "pd.DataFrame(interaction_matrix)[1].sum()"
   ]
  },
  {
   "cell_type": "code",
   "execution_count": null,
   "metadata": {},
   "outputs": [],
   "source": [
    "final_data = pd.DataFrame([])\n",
    "loop = [\"f0\",\"f1\",\"f2\",\"f3\",\"f4\",\"f5\",\"f6\",\"f7\"]\n",
    "for i in range(len(loop)):\n",
    "    non_zero = data.loc[data[loop[i]]!=0]\n",
    "    data_grouped = non_zero.groupby('reviewer_id')[loop[i]].apply(lambda x: pd.Series([x.count()])).unstack()\n",
    "    print(i)\n",
    "    final_data[loop[i]+'_avg'] = data_grouped[0]"
   ]
  }
 ],
 "metadata": {
  "kernelspec": {
   "display_name": "Python 3",
   "language": "python",
   "name": "python3"
  },
  "language_info": {
   "codemirror_mode": {
    "name": "ipython",
    "version": 3
   },
   "file_extension": ".py",
   "mimetype": "text/x-python",
   "name": "python",
   "nbconvert_exporter": "python",
   "pygments_lexer": "ipython3",
   "version": "3.7.3"
  }
 },
 "nbformat": 4,
 "nbformat_minor": 2
}
