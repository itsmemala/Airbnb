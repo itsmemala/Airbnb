{
 "cells": [
  {
   "cell_type": "code",
   "execution_count": 1,
   "metadata": {},
   "outputs": [],
   "source": [
    "import pandas as pd\n",
    "data1=pd.read_csv('D:\\\\PGP-BABI\\\\Capstone\\\\Airbnb\\\\Tasmania-detailed listings - final2.csv', error_bad_lines=False)\n",
    "data2=pd.read_csv('D:\\\\PGP-BABI\\\\Capstone\\\\Airbnb\\\\Sentiment Scores\\\\All_listing_feature_sentiment - Aggr3.csv', error_bad_lines=False)\n",
    "data=pd.merge(data1,data2,on='listing_id',how='inner')"
   ]
  },
  {
   "cell_type": "code",
   "execution_count": 2,
   "metadata": {},
   "outputs": [],
   "source": [
    "data.to_csv('D:\\\\PGP-BABI\\\\Capstone\\\\Airbnb\\\\Tasmania-FinalDataset.csv')"
   ]
  }
 ],
 "metadata": {
  "kernelspec": {
   "display_name": "Python 3",
   "language": "python",
   "name": "python3"
  },
  "language_info": {
   "codemirror_mode": {
    "name": "ipython",
    "version": 3
   },
   "file_extension": ".py",
   "mimetype": "text/x-python",
   "name": "python",
   "nbconvert_exporter": "python",
   "pygments_lexer": "ipython3",
   "version": "3.7.3"
  }
 },
 "nbformat": 4,
 "nbformat_minor": 2
}
